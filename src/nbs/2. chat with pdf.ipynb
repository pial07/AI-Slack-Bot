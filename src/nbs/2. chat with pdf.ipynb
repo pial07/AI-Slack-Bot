{
 "cells": [
  {
   "cell_type": "code",
   "execution_count": 1,
   "id": "a36d9b54-5486-4f21-96c7-1cbe9845cd6f",
   "metadata": {},
   "outputs": [],
   "source": [
    "import setup\n",
    "setup.init_django()"
   ]
  },
  {
   "cell_type": "code",
   "execution_count": 3,
   "id": "aedf9cb4-4cae-4187-a3f1-d1753075e938",
   "metadata": {},
   "outputs": [],
   "source": [
    "django_pdf=\"data/django.pdf\""
   ]
  },
  {
   "cell_type": "code",
   "execution_count": 4,
   "id": "917e2e22-74b8-49e2-816d-a094ebbc6e1b",
   "metadata": {},
   "outputs": [],
   "source": [
    "from llama_index.core import VectorStoreIndex, SimpleDirectoryReader"
   ]
  },
  {
   "cell_type": "code",
   "execution_count": 5,
   "id": "7499f861-a6e0-4ccb-a56d-3eab27769dea",
   "metadata": {},
   "outputs": [],
   "source": [
    "reader=documents = SimpleDirectoryReader(input_files=[django_pdf])\n",
    "\n",
    "    "
   ]
  },
  {
   "cell_type": "code",
   "execution_count": 6,
   "id": "56ca9752-ef49-4557-8d4d-9825059ae024",
   "metadata": {},
   "outputs": [],
   "source": [
    "data=reader.load_data()"
   ]
  },
  {
   "cell_type": "code",
   "execution_count": 7,
   "id": "21b69dd5-43e2-4e2d-887e-9fe434d5281a",
   "metadata": {},
   "outputs": [],
   "source": [
    "import helpers\n",
    "import openai\n",
    "openai.api_key=helpers.config(\"OPENAI_API_KEY\",default=None)"
   ]
  },
  {
   "cell_type": "code",
   "execution_count": 8,
   "id": "4b6d31b0-be23-4d0f-b1f8-574f47e1aa6f",
   "metadata": {},
   "outputs": [],
   "source": [
    "index = VectorStoreIndex.from_documents(data)"
   ]
  },
  {
   "cell_type": "code",
   "execution_count": 9,
   "id": "9e67fc6e-3e9f-4748-a98e-000bb2e59b90",
   "metadata": {},
   "outputs": [],
   "source": [
    "query_engine=index.as_query_engine()"
   ]
  },
  {
   "cell_type": "code",
   "execution_count": 10,
   "id": "d718d6fc-157c-427a-97ab-2dd7d1c28916",
   "metadata": {},
   "outputs": [
    {
     "name": "stdout",
     "output_type": "stream",
     "text": [
      "max_length\n"
     ]
    }
   ],
   "source": [
    "r=query_engine.query(\"What are the arguments for CharField?\")\n",
    "print(r.response)"
   ]
  },
  {
   "cell_type": "code",
   "execution_count": null,
   "id": "fa8c2a64-c7b3-4e35-beb8-1ca0d6bc1de4",
   "metadata": {},
   "outputs": [],
   "source": []
  }
 ],
 "metadata": {
  "kernelspec": {
   "display_name": "Python 3 (ipykernel)",
   "language": "python",
   "name": "python3"
  },
  "language_info": {
   "codemirror_mode": {
    "name": "ipython",
    "version": 3
   },
   "file_extension": ".py",
   "mimetype": "text/x-python",
   "name": "python",
   "nbconvert_exporter": "python",
   "pygments_lexer": "ipython3",
   "version": "3.12.6"
  }
 },
 "nbformat": 4,
 "nbformat_minor": 5
}
