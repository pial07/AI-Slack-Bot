{
 "cells": [
  {
   "cell_type": "code",
   "execution_count": 1,
   "id": "a36d9b54-5486-4f21-96c7-1cbe9845cd6f",
   "metadata": {},
   "outputs": [],
   "source": [
    "import setup\n",
    "setup.init_django()"
   ]
  },
  {
   "cell_type": "code",
   "execution_count": 2,
   "id": "aedf9cb4-4cae-4187-a3f1-d1753075e938",
   "metadata": {},
   "outputs": [],
   "source": [
    "django_pdf=\"data/django.pdf\""
   ]
  },
  {
   "cell_type": "code",
   "execution_count": 8,
   "id": "917e2e22-74b8-49e2-816d-a094ebbc6e1b",
   "metadata": {},
   "outputs": [],
   "source": [
    "from llama_index.core import VectorStoreIndex, SimpleDirectoryReader, StorageContext\n",
    "from llama_index.vector_stores.upstash import UpstashVectorStore"
   ]
  },
  {
   "cell_type": "code",
   "execution_count": 9,
   "id": "7499f861-a6e0-4ccb-a56d-3eab27769dea",
   "metadata": {},
   "outputs": [],
   "source": [
    "reader=documents = SimpleDirectoryReader(input_files=[django_pdf])"
   ]
  },
  {
   "cell_type": "code",
   "execution_count": 10,
   "id": "21b69dd5-43e2-4e2d-887e-9fe434d5281a",
   "metadata": {},
   "outputs": [],
   "source": [
    "import helpers\n",
    "import openai\n",
    "openai.api_key=helpers.config(\"OPENAI_API_KEY\",default=None)"
   ]
  },
  {
   "cell_type": "code",
   "execution_count": 11,
   "id": "43c1e221-67f5-4912-8c00-7a26b29c01f5",
   "metadata": {},
   "outputs": [
    {
     "data": {
      "text/plain": [
       "'https://upward-humpback-77258-gcp-usc1-vector.upstash.io'"
      ]
     },
     "execution_count": 11,
     "metadata": {},
     "output_type": "execute_result"
    }
   ],
   "source": [
    "url=helpers.config(\"UPSTASH_VECTOR_URL\", default=None)\n",
    "token=helpers.config(\"UPSTASH_VECTOR_TOKEN\", default=None)\n",
    "url"
   ]
  },
  {
   "cell_type": "code",
   "execution_count": null,
   "id": "56ca9752-ef49-4557-8d4d-9825059ae024",
   "metadata": {},
   "outputs": [],
   "source": [
    "data=reader.load_data()"
   ]
  },
  {
   "cell_type": "code",
   "execution_count": 13,
   "id": "85a3de83-6cf0-433c-baed-20efb82052d7",
   "metadata": {},
   "outputs": [],
   "source": [
    "import httpx\n",
    "timeout=httpx.Timeout(600.0, connect=600.0)\n",
    "client=httpx.Client(timeout=timeout)"
   ]
  },
  {
   "cell_type": "code",
   "execution_count": 14,
   "id": "df52fc89-9630-4db8-8a2a-016470d6a8c3",
   "metadata": {},
   "outputs": [],
   "source": [
    "from upstash_vector import Index, Vector\n",
    "\n",
    "upstash_index = Index(url=url, \n",
    "              token=token,\n",
    "             retries=5,\n",
    "             retry_interval=0.2)\n",
    "upstash_index._client=client"
   ]
  },
  {
   "cell_type": "code",
   "execution_count": 16,
   "id": "ef6763da-bae9-4679-8048-10ac15cd767b",
   "metadata": {},
   "outputs": [],
   "source": [
    "vector_store = UpstashVectorStore(\n",
    "    url=url, \n",
    "    token=token,\n",
    ")\n",
    "vector_store._index = upstash_index"
   ]
  },
  {
   "cell_type": "code",
   "execution_count": 18,
   "id": "c983b509-cfe6-484c-bd1d-e4f52a4ec34d",
   "metadata": {},
   "outputs": [],
   "source": [
    "storage_context = StorageContext.from_defaults(vector_store=vector_store)"
   ]
  },
  {
   "cell_type": "code",
   "execution_count": 19,
   "id": "2e47a8ef-f316-4cde-bd3d-c97c3183c0ca",
   "metadata": {},
   "outputs": [],
   "source": [
    "index = VectorStoreIndex.from_documents(data, storage_context=storage_context, insert_batch_size=500)"
   ]
  },
  {
   "cell_type": "code",
   "execution_count": 21,
   "id": "0a48a9fe-6cb7-4ff6-b2f1-9ec0115304f0",
   "metadata": {},
   "outputs": [],
   "source": [
    "index_persist = VectorStoreIndex.from_vector_store(vector_store=vector_store)"
   ]
  },
  {
   "cell_type": "code",
   "execution_count": 22,
   "id": "ebfa0844-b5ec-4d36-a05c-0febcc19d95d",
   "metadata": {},
   "outputs": [],
   "source": [
    "query_engine=index_persist.as_query_engine()"
   ]
  },
  {
   "cell_type": "code",
   "execution_count": 25,
   "id": "c7038879-0eeb-491d-bfff-3ed5f5474375",
   "metadata": {},
   "outputs": [
    {
     "name": "stdout",
     "output_type": "stream",
     "text": [
      "The arguments of the embeddings field are `srid` and `geom_type`.\n"
     ]
    }
   ],
   "source": [
    "r=query_engine.query(\"What are the arguments of embeddings field\")\n",
    "print(r.response)"
   ]
  },
  {
   "cell_type": "code",
   "execution_count": null,
   "id": "36ab2631-0f74-4531-911c-07e3b651d63e",
   "metadata": {},
   "outputs": [],
   "source": []
  },
  {
   "cell_type": "code",
   "execution_count": null,
   "id": "4556719a-9fb8-4360-bc24-80fde812807d",
   "metadata": {},
   "outputs": [],
   "source": [
    "from llama_index.core.response_synthesizers.type import ResponseMode\n",
    "query_engine = index_persist.as_query_engine()"
   ]
  },
  {
   "cell_type": "code",
   "execution_count": null,
   "id": "d738bd80-76c3-46d6-a0ef-32a93af03e70",
   "metadata": {},
   "outputs": [],
   "source": []
  }
 ],
 "metadata": {
  "kernelspec": {
   "display_name": "Python 3 (ipykernel)",
   "language": "python",
   "name": "python3"
  },
  "language_info": {
   "codemirror_mode": {
    "name": "ipython",
    "version": 3
   },
   "file_extension": ".py",
   "mimetype": "text/x-python",
   "name": "python",
   "nbconvert_exporter": "python",
   "pygments_lexer": "ipython3",
   "version": "3.12.6"
  }
 },
 "nbformat": 4,
 "nbformat_minor": 5
}
